{
 "cells": [
  {
   "cell_type": "markdown",
   "metadata": {
    "collapsed": false,
    "pycharm": {
     "name": "#%% md\n"
    }
   },
   "source": [
    "# Lab X\n",
    "## OCdt Archibald MacDonnell, NCdt Arthur Currie\n",
    "Submitted 15 Sep 23\n",
    "\n",
    "## Format of submission\n",
    "You are to submit a single .zip file per group titled: `EEE466_lab<X>_<student1_student2>.zip` and upload it to the relevant Moodle assignment before the deadline. Only one member of your group must upload.\n",
    "\n",
    "The zip file must include a python notebook (`.ipynb`) using this lab template. Questions are to be answered in this file. There is no word count or formal structure; include a brief summary of your implementation, highlighting your design choices. All project files for the lab must also be included (i.e., your project folder with all provided and new files). In the file transfer labs, you do not need to provide the text files used to test transfers.\n",
    "\n",
    "## Section for each lab submission requirement\n",
    "\n",
    "**All submitted code must have clear and detailed comments.**\n",
    "\n",
    "You are marked only on whether you summarized the problem and your design decisions for your implementation. Further discussion (described below) can be helpful in supporting partial marks but is not required for full credit in the labs.\n",
    "\n",
    "If additional instructions/descriptions of code is helpful, you may include snips of code in this notebook.\n",
    "\n",
    "Your grade is made up of:\n",
    "1. Code. If it runs correctly, full points. If not, you will get partial points based on how much of the implementation is correct and what testing attempts you made.\n",
    "2. Discussion. In your report notebook provide a brief summary of what you did and what design decisions you made.\n",
    "    - (Optional) You may include additional discussion of challenges faced and testing procedures as described above, this is primarily for partial marks in case of an error with your implementation. The more clear you can be about what you understood the better.\n",
    "3. Testing (optional). Description of test cases and code used may help prove your understanding of the design if the code does not meet all criteria.\n",
    "4. Code comments. Each class and method that you created/modified must have a comment. Comments must describe your design. They should be short but clear.\n",
    "5. Questions. As described in the next section.\n",
    "\n",
    "## Questions\n",
    "Copy questions and answer them below. Answer questions carefully. Avoid one-word answers and avoid shotgun answers, where you write down everything you can think of, hoping that something will hit. Be clear and specific.\n",
    "\n",
    "## References\n",
    "If you used a reference, list it here. If someone helped you with the lab, this is where you give them credit. (Remember, giving someone else a copy of your solution, or using someone else’s solution directly in your work, constitutes academic misconduct, so don’t). Put down the title and author of any webpages.\n",
    "\n",
    "For example:\n",
    "1.\tPololu, Inc. Pololu AVR Library Command Reference. Available from https://www.pololu.com/docs/0J18. Accessed 15 September 2015\n",
    "2.\tForouzan & Gilberg. Computer Science – A Structured Programming Approach Using C. 3rd Edition, Thompson, 2007"
   ]
  }
 ],
 "metadata": {
  "kernelspec": {
   "display_name": "Python 3",
   "language": "python",
   "name": "python3"
  },
  "language_info": {
   "codemirror_mode": {
    "name": "ipython",
    "version": 2
   },
   "file_extension": ".py",
   "mimetype": "text/x-python",
   "name": "python",
   "nbconvert_exporter": "python",
   "pygments_lexer": "ipython2",
   "version": "2.7.6"
  }
 },
 "nbformat": 4,
 "nbformat_minor": 0
}
